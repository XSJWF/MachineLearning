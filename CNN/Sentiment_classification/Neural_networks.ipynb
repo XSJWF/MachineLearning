{
 "cells": [
  {
   "cell_type": "code",
   "execution_count": 1,
   "outputs": [],
   "source": [
    "def load_stopwords():\n",
    "        \"\"\"\n",
    "        :return: 加载好的停用词列表\n",
    "        \"\"\"\n",
    "        with open('../hit_stopwords.txt', 'r', encoding='UTF-8') as f:\n",
    "            lines = f.readlines()\n",
    "            stopwords = []\n",
    "            for line in lines:\n",
    "                stopwords.append(line.replace('\\n', ''))\n",
    "        return stopwords"
   ],
   "metadata": {
    "collapsed": false,
    "ExecuteTime": {
     "start_time": "2023-04-04T16:50:04.614891Z",
     "end_time": "2023-04-04T16:50:04.632891Z"
    }
   }
  },
  {
   "cell_type": "code",
   "execution_count": 2,
   "outputs": [
    {
     "ename": "ModuleNotFoundError",
     "evalue": "No module named 'keras'",
     "output_type": "error",
     "traceback": [
      "\u001B[1;31m---------------------------------------------------------------------------\u001B[0m",
      "\u001B[1;31mModuleNotFoundError\u001B[0m                       Traceback (most recent call last)",
      "Cell \u001B[1;32mIn[2], line 2\u001B[0m\n\u001B[0;32m      1\u001B[0m \u001B[38;5;28;01mfrom\u001B[39;00m \u001B[38;5;21;01msklearn\u001B[39;00m\u001B[38;5;21;01m.\u001B[39;00m\u001B[38;5;21;01mmetrics\u001B[39;00m \u001B[38;5;28;01mimport\u001B[39;00m classification_report\n\u001B[1;32m----> 2\u001B[0m \u001B[38;5;28;01mfrom\u001B[39;00m \u001B[38;5;21;01mkeras\u001B[39;00m\u001B[38;5;21;01m.\u001B[39;00m\u001B[38;5;21;01mutils\u001B[39;00m \u001B[38;5;28;01mimport\u001B[39;00m pad_sequences\n\u001B[0;32m      3\u001B[0m \u001B[38;5;28;01mimport\u001B[39;00m \u001B[38;5;21;01mpandas\u001B[39;00m \u001B[38;5;28;01mas\u001B[39;00m \u001B[38;5;21;01mpd\u001B[39;00m\n\u001B[0;32m      4\u001B[0m \u001B[38;5;28;01mimport\u001B[39;00m \u001B[38;5;21;01mjieba\u001B[39;00m\n",
      "\u001B[1;31mModuleNotFoundError\u001B[0m: No module named 'keras'"
     ]
    }
   ],
   "source": [
    "from sklearn.metrics import classification_report\n",
    "from keras.utils import pad_sequences\n",
    "import pandas as pd\n",
    "import jieba\n",
    "import tensorflow as tf\n",
    "from sklearn.model_selection import KFold\n",
    "from keras.preprocessing.text import Tokenizer\n",
    "from keras.models import Sequential\n",
    "from keras.layers import Embedding, Conv1D, GlobalMaxPooling1D, Dense, Dropout\n",
    "from keras.callbacks import EarlyStopping, ReduceLROnPlateau\n",
    "import numpy as np\n",
    "\n",
    "# 读取我们本次实验的文本数据\n",
    "df = pd.read_csv('../Emotional_text/weibo_sentiment.csv')\n",
    "\n",
    "# 分词并去除停用词\n",
    "stop_words = load_stopwords()\n",
    "df['review'] = df['review'].apply(lambda x: ' '.join(word for word in jieba.cut(x) if word not in stop_words))\n",
    "\n",
    "# 使用Keras的Tokenizer来转化词语为词向量，这里我们选择出现频率前25000个词作为词袋\n",
    "tokenizer = Tokenizer(num_words=25000, oov_token='<OOV>')\n",
    "tokenizer.fit_on_texts(df['review'])\n",
    "seq = tokenizer.texts_to_sequences(df['review'])\n",
    "\n",
    "# 补齐每个样本序列，使其长度一样来方便后续的计算\n",
    "max_len = 280\n",
    "seq = pad_sequences(seq, maxlen=max_len, truncating='post')\n",
    "\n",
    "# 划分数据集，这里我们使用十折交叉验证，循环十次训练\n",
    "labels = df['label']\n",
    "kfold = KFold(n_splits=10, shuffle=True, random_state=42)\n",
    "losses = []\n",
    "accs = []\n",
    "for train_idx, test_idx in kfold.split(seq, labels):\n",
    "    # 划分训练集和测试集\n",
    "    train_seq, test_seq = seq[train_idx], seq[test_idx]\n",
    "    train_labels, test_labels = labels.iloc[train_idx], labels.iloc[test_idx]\n",
    "\n",
    "    # 建立一个神经网络模型，一层层添加神经元层\n",
    "    model = Sequential()\n",
    "    model.add(Embedding(25000, 150, input_length=max_len))\n",
    "    model.add(Conv1D(128, 5, activation='relu'))\n",
    "    model.add(GlobalMaxPooling1D())\n",
    "    model.add(Dense(128, activation='relu'))\n",
    "    model.add(Dropout(0.5))\n",
    "    model.add(Dense(2, activation='softmax'))\n",
    "\n",
    "    # 编译刚刚建立的卷积神经网络模型\n",
    "    model.compile(optimizer='adam', loss='categorical_crossentropy', metrics=['accuracy'])\n",
    "\n",
    "    # 设置 EarlyStopping 和 ReduceLROnPlateau 来避免过拟合\n",
    "    early_stop = EarlyStopping(monitor='val_loss', patience=3)\n",
    "    reduce_lr = ReduceLROnPlateau(monitor='val_loss', factor=0.2, patience=2, min_lr=0.0001)\n",
    "\n",
    "    # 训练以及验证卷积神经网络模型的效果\n",
    "    history = model.fit(train_seq, tf.keras.utils.to_categorical(train_labels), batch_size=128, epochs=20, validation_data=(test_seq, tf.keras.utils.to_categorical(test_labels)), callbacks=[early_stop, reduce_lr], verbose=0)\n",
    "\n",
    "    # 评估本实验建立的卷积神经网络模型的训练结果的各项参数\n",
    "    loss, accuracy = model.evaluate(test_seq, tf.keras.utils.to_categorical(test_labels))\n",
    "    print('Test loss:', loss)\n",
    "    print('Test accuracy:', accuracy)\n",
    "    losses.append(loss)\n",
    "    accs.append(accuracy)\n",
    "    y_pred = np.argmax(model.predict(test_seq), axis=-1)\n",
    "    print(classification_report(test_labels, y_pred))\n",
    "\n",
    "    # 绘制训练集和测试集的损失和准确率变化曲线\n",
    "    import matplotlib.pyplot as plt\n",
    "    %matplotlib inline\n",
    "\n",
    "    plt.plot(history.history['accuracy'])\n",
    "    plt.plot(history.history['val_accuracy'])\n",
    "    plt.title('Model accuracy')\n",
    "    plt.ylabel('Accuracy')\n",
    "    plt.xlabel('Epoch')\n",
    "    plt.legend(['Train', 'Test'], loc='upper left')\n",
    "    plt.show()\n",
    "\n",
    "    plt.plot(history.history['loss'])\n",
    "    plt.plot(history.history['val_loss'])\n",
    "    plt.title('Model loss')\n",
    "    plt.ylabel('Loss')\n",
    "    plt.xlabel('Epoch')\n",
    "    plt.legend(['Train', 'Test'], loc='upper left')\n",
    "    plt.show()\n",
    "\n",
    "print('Mean loss:', np.mean(losses))\n",
    "print('Mean accuracy:', np.mean(accs))"
   ],
   "metadata": {
    "collapsed": false,
    "ExecuteTime": {
     "start_time": "2023-04-04T16:51:02.607768Z",
     "end_time": "2023-04-04T17:45:01.581536Z"
    }
   }
  },
  {
   "cell_type": "code",
   "execution_count": null,
   "outputs": [],
   "source": [],
   "metadata": {
    "collapsed": false
   }
  }
 ],
 "metadata": {
  "kernelspec": {
   "display_name": "Python 3",
   "language": "python",
   "name": "python3"
  },
  "language_info": {
   "codemirror_mode": {
    "name": "ipython",
    "version": 2
   },
   "file_extension": ".py",
   "mimetype": "text/x-python",
   "name": "python",
   "nbconvert_exporter": "python",
   "pygments_lexer": "ipython2",
   "version": "2.7.6"
  }
 },
 "nbformat": 4,
 "nbformat_minor": 0
}
