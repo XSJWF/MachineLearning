{
 "cells": [
  {
   "cell_type": "code",
   "execution_count": 1,
   "outputs": [
    {
     "name": "stdout",
     "output_type": "stream",
     "text": [
      "(87019, 21)\n"
     ]
    },
    {
     "data": {
      "text/plain": "                  NAME       GENRES  \\\n0                 情定河州        剧情/爱情   \n1               我不是李小龙        动作/爱情   \n2              曼哈顿中国女孩           剧情   \n3                 绿毛水怪           爱情   \n4                 为了祖国        剧情/历史   \n...                ...          ...   \n87014      拿破仑与欧洲 - 电影        剧情/历史   \n87015  Forræderne - 电影        剧情/战争   \n87016        光头的鬼 - 电影           剧情   \n87017       爱情快递生 - 电影           剧情   \n87018          大鱼 - 电影  剧情/家庭/奇幻/冒险   \n\n                                               STORYLINE  \n0           电影《情定临夏天使然》讲述临夏新一代青年人发奋图强、借助国家一带一路战略励志创业的故事。  \n1      桀骜不驯的如龙武功高强，在一场比赛中，被打成重伤，被诊今生不能再用功夫。女友荆兰为激发他重新...  \n2      平民女孩李莉只身初入曼哈顿求学，在历经迷失与困惑之后，凭借努力与善良收获了事业上的成功，同时...  \n3      王小波经典中篇小说《绿毛水怪》将改编电影。《绿毛水怪》是王小波早期手稿作品，以天马行空的想象...  \n4      1932年上海虹口爆炸案后，韩国国父金九在褚辅成、朱爱宝这些普通群众的帮助下逃到嘉兴避难。金...  \n...                                                  ...  \n87014                         六集历史剧，讲述拿破仑从远征埃及到战败流亡的历史故事  \n87015  Two young Danes have joined Free Corps Denmark...  \n87016  Far out in the countryside lives 11-year-old J...  \n87017  Mick is just 16 years old, but he is more inte...  \n87018  爱德华（伊万·麦克格雷格 Ewan McGregor 饰）生性热爱自由，成年之后，他选择离开...  \n\n[87019 rows x 3 columns]",
      "text/html": "<div>\n<style scoped>\n    .dataframe tbody tr th:only-of-type {\n        vertical-align: middle;\n    }\n\n    .dataframe tbody tr th {\n        vertical-align: top;\n    }\n\n    .dataframe thead th {\n        text-align: right;\n    }\n</style>\n<table border=\"1\" class=\"dataframe\">\n  <thead>\n    <tr style=\"text-align: right;\">\n      <th></th>\n      <th>NAME</th>\n      <th>GENRES</th>\n      <th>STORYLINE</th>\n    </tr>\n  </thead>\n  <tbody>\n    <tr>\n      <th>0</th>\n      <td>情定河州</td>\n      <td>剧情/爱情</td>\n      <td>电影《情定临夏天使然》讲述临夏新一代青年人发奋图强、借助国家一带一路战略励志创业的故事。</td>\n    </tr>\n    <tr>\n      <th>1</th>\n      <td>我不是李小龙</td>\n      <td>动作/爱情</td>\n      <td>桀骜不驯的如龙武功高强，在一场比赛中，被打成重伤，被诊今生不能再用功夫。女友荆兰为激发他重新...</td>\n    </tr>\n    <tr>\n      <th>2</th>\n      <td>曼哈顿中国女孩</td>\n      <td>剧情</td>\n      <td>平民女孩李莉只身初入曼哈顿求学，在历经迷失与困惑之后，凭借努力与善良收获了事业上的成功，同时...</td>\n    </tr>\n    <tr>\n      <th>3</th>\n      <td>绿毛水怪</td>\n      <td>爱情</td>\n      <td>王小波经典中篇小说《绿毛水怪》将改编电影。《绿毛水怪》是王小波早期手稿作品，以天马行空的想象...</td>\n    </tr>\n    <tr>\n      <th>4</th>\n      <td>为了祖国</td>\n      <td>剧情/历史</td>\n      <td>1932年上海虹口爆炸案后，韩国国父金九在褚辅成、朱爱宝这些普通群众的帮助下逃到嘉兴避难。金...</td>\n    </tr>\n    <tr>\n      <th>...</th>\n      <td>...</td>\n      <td>...</td>\n      <td>...</td>\n    </tr>\n    <tr>\n      <th>87014</th>\n      <td>拿破仑与欧洲 - 电影</td>\n      <td>剧情/历史</td>\n      <td>六集历史剧，讲述拿破仑从远征埃及到战败流亡的历史故事</td>\n    </tr>\n    <tr>\n      <th>87015</th>\n      <td>Forræderne - 电影</td>\n      <td>剧情/战争</td>\n      <td>Two young Danes have joined Free Corps Denmark...</td>\n    </tr>\n    <tr>\n      <th>87016</th>\n      <td>光头的鬼 - 电影</td>\n      <td>剧情</td>\n      <td>Far out in the countryside lives 11-year-old J...</td>\n    </tr>\n    <tr>\n      <th>87017</th>\n      <td>爱情快递生 - 电影</td>\n      <td>剧情</td>\n      <td>Mick is just 16 years old, but he is more inte...</td>\n    </tr>\n    <tr>\n      <th>87018</th>\n      <td>大鱼 - 电影</td>\n      <td>剧情/家庭/奇幻/冒险</td>\n      <td>爱德华（伊万·麦克格雷格 Ewan McGregor 饰）生性热爱自由，成年之后，他选择离开...</td>\n    </tr>\n  </tbody>\n</table>\n<p>87019 rows × 3 columns</p>\n</div>"
     },
     "execution_count": 1,
     "metadata": {},
     "output_type": "execute_result"
    }
   ],
   "source": [
    "import pandas as pd\n",
    "import zhconv\n",
    "\n",
    "data = pd.read_csv(\"movies_me.csv\")\n",
    "data.dropna(subset=['GENRES', 'STORYLINE'], how='any', inplace=True)\n",
    "\n",
    "# 中文繁体与简体的转化\n",
    "data['GENRES'] = data['GENRES'].apply(lambda x: zhconv.convert(x, 'zh-cn'))\n",
    "data['STORYLINE'] = data['STORYLINE'].apply(lambda x: zhconv.convert(x, 'zh-cn'))\n",
    "\n",
    "# 对分类重复的样本做一个并集处理\n",
    "data['GENRES'] = data['GENRES'].apply(lambda x: x.replace('动画 Animation', '动画') if \"动画 Animation\" in x.split(\"/\") else x)\n",
    "data['GENRES'] = data['GENRES'].apply(lambda x: x.replace('剧情 Drama', '剧情') if \"剧情 Drama\" in x.split(\"/\") else x)\n",
    "data['GENRES'] = data['GENRES'].apply(lambda x: x.replace('儿童 Kids', '儿童') if \"儿童 Kids\" in x.split(\"/\") else x)\n",
    "data['GENRES'] = data['GENRES'].apply(lambda x: x.replace('纪录片 Documentary', '纪录片') if \"纪录片 Documentary\" in x.split(\"/\") else x)\n",
    "data['GENRES'] = data['GENRES'].apply(lambda x: x.replace('音乐 Music', '音乐') if \"音乐 Music\" in x.split(\"/\") else x)\n",
    "data['GENRES'] = data['GENRES'].apply(lambda x: x.replace('惊悚 Thriller', '惊悚') if \"惊悚 Thriller\" in x.split(\"/\") else x)\n",
    "data['GENRES'] = data['GENRES'].apply(lambda x: x.replace('Reality-TV', '真人秀') if \"Reality-TV\" in x.split(\"/\") else x)\n",
    "data['GENRES'] = data['GENRES'].apply(lambda x: x.replace('爱情 Romance', '爱情') if \"爱情 Romance\" in x.split(\"/\") else x)\n",
    "data['GENRES'] = data['GENRES'].apply(lambda x: x.replace('Adult', '成人') if \"Adult\" in x.split(\"/\") else x)\n",
    "data['GENRES'] = data['GENRES'].apply(lambda x: x.replace('喜剧 Comedy', '喜剧') if \"喜剧 Comedy\" in x.split(\"/\") else x)\n",
    "data['GENRES'] = data['GENRES'].apply(lambda x: x.replace('传记 Biography', '传记') if \"传记 Biography\" in x.split(\"/\") else x)\n",
    "data['GENRES'] = data['GENRES'].apply(lambda x: x.replace('悬疑 Mystery', '悬疑') if \"悬疑 Mystery\" in x.split(\"/\") else x)\n",
    "data['GENRES'] = data['GENRES'].apply(lambda x: x.replace('Comedy', '喜剧') if \"Comedy\" in x.split(\"/\") else x)\n",
    "data['GENRES'] = data['GENRES'].apply(lambda x: x.replace('历史 History', '历史') if \"历史 History\" in x.split(\"/\") else x)\n",
    "data['GENRES'] = data['GENRES'].apply(lambda x: x.replace('动作 Action', '动作') if \"动作 Action\" in x.split(\"/\") else x)\n",
    "\n",
    "# 对分类相近的样本做并集处理\n",
    "# data['GENRES'] = data['GENRES'].apply(lambda x: x.replace('荒诞', '喜剧') if (\"荒诞\" in x) and (\"喜剧\" not in x) else x.replace('/荒诞', ''))\n",
    "# data['GENRES'] = data['GENRES'].apply(lambda x: x.replace('惊栗', '惊悚') if (\"惊栗\" in x) and (\"惊悚\" not in x) else x.replace('/惊栗', ''))\n",
    "# data['GENRES'] = data['GENRES'].apply(lambda x: x.replace('悬念', '悬疑') if (\"悬念\" in x) and (\"悬疑\" not in x) else x.replace('/悬念', ''))\n",
    "# data['GENRES'] = data['GENRES'].apply(lambda x: x.replace('/成人', '') if (\"成人\" in x) and (len(x.split(\"/\")) != 1) else x)\n",
    "# data = data[~data['GENRES'].str.contains(\"成人\")]\n",
    "# data['GENRES'] = data['GENRES'].apply(lambda x: x.replace('/鬼怪', '') if (\"鬼怪\" in x) and (len(x.split(\"/\")) != 1) else x)\n",
    "# data['GENRES'] = data['GENRES'].apply(lambda x: x.replace('/纪录片', '') if (\"纪录片\" in x) and (len(x.split(\"/\")) != 1) else x)\n",
    "# data['GENRES'] = data['GENRES'].apply(lambda x: x.replace('纪录片/', '') if (\"纪录片\" in x) and (len(x.split(\"/\")) != 1) else x)\n",
    "# data = data[~data['GENRES'].str.contains(\"纪录片\")]\n",
    "# data['GENRES'] = data['GENRES'].apply(lambda x: x.replace('/脱口秀', '') if (\"脱口秀\" in x) and (len(x.split(\"/\")) != 1) else x)\n",
    "# data = data[~data['GENRES'].str.contains(\"脱口秀\")]\n",
    "# data['GENRES'] = data['GENRES'].apply(lambda x: x.replace('/真人秀', '') if (\"真人秀\" in x) and (len(x.split(\"/\")) != 1) else x)\n",
    "# data['GENRES'] = data['GENRES'].apply(lambda x: x.replace('/短片', '') if (\"短片\" in x) and (len(x.split(\"/\")) != 1) else x)\n",
    "# data = data[~data['GENRES'].str.contains(\"短片\")]\n",
    "# data['GENRES'] = data['GENRES'].apply(lambda x: x.replace('舞台艺术', '歌舞') if (\"舞台艺术\" in x) and (\"歌舞\" not in x) else x.replace('/舞台艺术', ''))\n",
    "# data['GENRES'] = data['GENRES'].apply(lambda x: x.replace('黑色电影', '犯罪') if (\"黑色电影\" in x) and (\"犯罪\" not in x) else x.replace('/黑色电影', ''))\n",
    "# data['GENRES'] = data['GENRES'].apply(lambda x: x.replace('/戏曲', '') if (\"戏曲\" in x) and (len(x.split(\"/\")) != 1) else x)\n",
    "# data['GENRES'] = data['GENRES'].apply(lambda x: x.replace('灾难', '惊悚') if (\"灾难\" in x) and (\"惊悚\" not in x) else x.replace('/灾难', ''))\n",
    "# data['GENRES'] = data['GENRES'].apply(lambda x: x.replace('/情色', '') if (\"情色\" in x) and (len(x.split(\"/\")) != 1) else x)\n",
    "# data['GENRES'] = data['GENRES'].apply(lambda x: x.replace('情色/', '') if (\"情色\" in x) and (len(x.split(\"/\")) != 1) else x)\n",
    "# data = data[~data['GENRES'].str.contains(\"情色\")]\n",
    "# data['GENRES'] = data['GENRES'].apply(lambda x: x.replace('/同性', '') if (\"同性\" in x) and (len(x.split(\"/\")) != 1) else x)\n",
    "# data['GENRES'] = data['GENRES'].apply(lambda x: x.replace('同性/', '') if (\"同性\" in x) and (len(x.split(\"/\")) != 1) else x)\n",
    "# data = data[~data['GENRES'].str.contains(\"同性\")]\n",
    "# data['GENRES'] = data['GENRES'].apply(lambda x: x.replace('儿童', '动画') if (\"儿童\" in x) and (\"动画\" not in x) else x.replace('/儿童', ''))\n",
    "\n",
    "print(data.shape)\n",
    "data = data.reset_index(drop=True)\n",
    "data[['NAME', 'GENRES', \"STORYLINE\"]]"
   ],
   "metadata": {
    "collapsed": false,
    "ExecuteTime": {
     "end_time": "2023-05-23T15:35:21.969463300Z",
     "start_time": "2023-05-23T15:35:11.870979200Z"
    }
   }
  },
  {
   "cell_type": "code",
   "execution_count": 2,
   "outputs": [
    {
     "name": "stdout",
     "output_type": "stream",
     "text": [
      "剧情 : 45802\n",
      "爱情 : 14749\n",
      "动作 : 13482\n",
      "历史 : 1815\n",
      "悬疑 : 6969\n",
      "科幻 : 4979\n",
      "古装 : 1299\n",
      "动画 : 5733\n",
      "喜剧 : 19090\n",
      "冒险 : 4415\n",
      "儿童 : 784\n",
      "同性 : 1443\n",
      "传记 : 1937\n",
      "犯罪 : 9290\n",
      "惊悚 : 11933\n",
      "奇幻 : 3840\n",
      "战争 : 2433\n",
      "家庭 : 2938\n",
      "恐怖 : 10235\n",
      "音乐 : 2241\n",
      "歌舞 : 1984\n",
      "情色 : 965\n",
      "舞台艺术 : 75\n",
      "西部 : 586\n",
      "运动 : 758\n",
      "黑色电影 : 401\n",
      "灾难 : 219\n",
      "武侠 : 759\n",
      "戏曲 : 245\n",
      "短片 : 83\n",
      "真人秀 : 113\n",
      "脱口秀 : 46\n",
      "纪录片 : 34\n",
      "鬼怪 : 67\n",
      "成人 : 61\n",
      "悬念 : 12\n",
      "惊栗 : 32\n",
      "荒诞 : 8\n",
      "剧情 爱情 动作 历史 悬疑 科幻 古装 动画 喜剧 冒险 儿童 同性 传记 犯罪 惊悚 奇幻 战争 家庭 恐怖 音乐 歌舞 情色 舞台艺术 西部 运动 黑色电影 灾难 武侠 戏曲 短片 真人秀 脱口秀 纪录片 鬼怪 成人 悬念 惊栗 荒诞\n"
     ]
    }
   ],
   "source": [
    "categories = {}\n",
    "datalist = data['GENRES'].dropna().tolist()\n",
    "for film in datalist:\n",
    "    keys = categories.keys()\n",
    "    for category in film.split('/'):\n",
    "        if category in keys:\n",
    "            categories[category] += 1\n",
    "        else:\n",
    "            categories[category] = 1\n",
    "\n",
    "for key in categories.keys():\n",
    "    print(key,\":\",categories[key])\n",
    "print(' '.join(categories.keys()))"
   ],
   "metadata": {
    "collapsed": false,
    "ExecuteTime": {
     "end_time": "2023-05-23T15:44:13.536652400Z",
     "start_time": "2023-05-23T15:44:13.455165100Z"
    }
   }
  },
  {
   "cell_type": "code",
   "execution_count": 3,
   "outputs": [
    {
     "data": {
      "text/plain": "<Figure size 640x480 with 1 Axes>",
      "image/png": "[encoded data removed]"
     },
     "metadata": {},
     "output_type": "display_data"
    }
   ],
   "source": [
    "import matplotlib.pyplot as plt\n",
    "length = data['STORYLINE'].str.len()\n",
    "# 绘制直方图\n",
    "plt.hist(length, bins=range(0, 1500, 1))\n",
    "plt.xlabel('Length')\n",
    "plt.ylabel('Count')\n",
    "plt.show()"
   ],
   "metadata": {
    "collapsed": false,
    "ExecuteTime": {
     "end_time": "2023-05-23T15:44:24.220994800Z",
     "start_time": "2023-05-23T15:44:21.726227300Z"
    }
   }
  },
  {
   "cell_type": "code",
   "execution_count": 4,
   "outputs": [],
   "source": [
    "def load_stopwords():\n",
    "        \"\"\"\n",
    "        :return: 加载好的停用词列表\n",
    "        \"\"\"\n",
    "        with open('CNN/hit_stopwords.txt', 'r', encoding='UTF-8') as f:\n",
    "            lines = f.readlines()\n",
    "            stopwords = []\n",
    "            for line in lines:\n",
    "                stopwords.append(line.replace('\\n', ''))\n",
    "        return stopwords"
   ],
   "metadata": {
    "collapsed": false,
    "ExecuteTime": {
     "end_time": "2023-05-23T15:44:24.956474400Z",
     "start_time": "2023-05-23T15:44:24.940846300Z"
    }
   }
  },
  {
   "cell_type": "code",
   "execution_count": 5,
   "outputs": [
    {
     "name": "stderr",
     "output_type": "stream",
     "text": [
      "Building prefix dict from the default dictionary ...\n",
      "Loading model from cache C:\\Users\\DYL\\AppData\\Local\\Temp\\jieba.cache\n",
      "Loading model cost 0.536 seconds.\n",
      "Prefix dict has been built successfully.\n"
     ]
    },
    {
     "name": "stdout",
     "output_type": "stream",
     "text": [
      "(87019,)\n"
     ]
    }
   ],
   "source": [
    "import jieba\n",
    "import re\n",
    "\n",
    "stop_words = load_stopwords()\n",
    "data['STORYLINE'] = data['STORYLINE'].apply(lambda x: re.sub(r'\\d+', '', x))\n",
    "data['STORYLINE'] = data['STORYLINE'].apply(lambda x: re.sub(r'[^\\w\\s]', '', x))\n",
    "# data['STORYLINE'] = data['STORYLINE'].apply(lambda x: x.replace(\" \", \"\"))\n",
    "data['STORYLINE'] = data['STORYLINE'].apply(lambda x: ' '.join(word for word in jieba.cut(x) if word not in stop_words))\n",
    "print(data['STORYLINE'].shape)"
   ],
   "metadata": {
    "collapsed": false,
    "ExecuteTime": {
     "end_time": "2023-05-23T15:46:37.157382200Z",
     "start_time": "2023-05-23T15:44:26.068644900Z"
    }
   }
  },
  {
   "cell_type": "code",
   "execution_count": 15,
   "outputs": [
    {
     "data": {
      "text/plain": "            GENRES                                          STORYLINE\n0            剧情/爱情  电影 情定 夏天 使然 讲述 临夏 新一代 青年人 发奋图强 借助 国家 一带 一路 战略 ...\n1            动作/爱情  桀骜不驯 如龙 武功 高强 一场 比赛 中 打成 重伤 被诊 今生 不能 再用 功夫 女友 ...\n2               剧情  平民 女孩 李莉 只身 初入 曼哈顿 求学 历经 迷失 困惑 之后 努力 善良 收获 事业 ...\n3               爱情  王小波 经典 中篇小说 绿毛 水怪 改编 电影 绿毛 水怪 王小波 早期 手稿 作品 天马行...\n4            剧情/历史  年 上海 虹口 爆炸案 后 韩国 国父 金九在 褚辅成 朱爱宝 普通群众 帮助 下 逃到 嘉...\n...            ...                                                ...\n87014        剧情/历史                    六集 历史剧 讲述 拿破仑 远征 埃及 战败 流亡 历史 故事\n87015        剧情/战争  Two   young   Danes   have   joined   Free   C...\n87016           剧情  Far   out   in   the   countryside   lives   y...\n87017           剧情  Mick   is   just     years   old   but   he   ...\n87018  剧情/家庭/奇幻/冒险  爱德华 伊万 麦克 格雷格   Ewan   McGregor   饰 生性 热爱 自由 成...\n\n[87019 rows x 2 columns]",
      "text/html": "<div>\n<style scoped>\n    .dataframe tbody tr th:only-of-type {\n        vertical-align: middle;\n    }\n\n    .dataframe tbody tr th {\n        vertical-align: top;\n    }\n\n    .dataframe thead th {\n        text-align: right;\n    }\n</style>\n<table border=\"1\" class=\"dataframe\">\n  <thead>\n    <tr style=\"text-align: right;\">\n      <th></th>\n      <th>GENRES</th>\n      <th>STORYLINE</th>\n    </tr>\n  </thead>\n  <tbody>\n    <tr>\n      <th>0</th>\n      <td>剧情/爱情</td>\n      <td>电影 情定 夏天 使然 讲述 临夏 新一代 青年人 发奋图强 借助 国家 一带 一路 战略 ...</td>\n    </tr>\n    <tr>\n      <th>1</th>\n      <td>动作/爱情</td>\n      <td>桀骜不驯 如龙 武功 高强 一场 比赛 中 打成 重伤 被诊 今生 不能 再用 功夫 女友 ...</td>\n    </tr>\n    <tr>\n      <th>2</th>\n      <td>剧情</td>\n      <td>平民 女孩 李莉 只身 初入 曼哈顿 求学 历经 迷失 困惑 之后 努力 善良 收获 事业 ...</td>\n    </tr>\n    <tr>\n      <th>3</th>\n      <td>爱情</td>\n      <td>王小波 经典 中篇小说 绿毛 水怪 改编 电影 绿毛 水怪 王小波 早期 手稿 作品 天马行...</td>\n    </tr>\n    <tr>\n      <th>4</th>\n      <td>剧情/历史</td>\n      <td>年 上海 虹口 爆炸案 后 韩国 国父 金九在 褚辅成 朱爱宝 普通群众 帮助 下 逃到 嘉...</td>\n    </tr>\n    <tr>\n      <th>...</th>\n      <td>...</td>\n      <td>...</td>\n    </tr>\n    <tr>\n      <th>87014</th>\n      <td>剧情/历史</td>\n      <td>六集 历史剧 讲述 拿破仑 远征 埃及 战败 流亡 历史 故事</td>\n    </tr>\n    <tr>\n      <th>87015</th>\n      <td>剧情/战争</td>\n      <td>Two   young   Danes   have   joined   Free   C...</td>\n    </tr>\n    <tr>\n      <th>87016</th>\n      <td>剧情</td>\n      <td>Far   out   in   the   countryside   lives   y...</td>\n    </tr>\n    <tr>\n      <th>87017</th>\n      <td>剧情</td>\n      <td>Mick   is   just     years   old   but   he   ...</td>\n    </tr>\n    <tr>\n      <th>87018</th>\n      <td>剧情/家庭/奇幻/冒险</td>\n      <td>爱德华 伊万 麦克 格雷格   Ewan   McGregor   饰 生性 热爱 自由 成...</td>\n    </tr>\n  </tbody>\n</table>\n<p>87019 rows × 2 columns</p>\n</div>"
     },
     "execution_count": 15,
     "metadata": {},
     "output_type": "execute_result"
    }
   ],
   "source": [
    "data[['GENRES', \"STORYLINE\"]]"
   ],
   "metadata": {
    "collapsed": false,
    "ExecuteTime": {
     "end_time": "2023-05-23T14:30:30.553481800Z",
     "start_time": "2023-05-23T14:30:30.490967200Z"
    }
   }
  },
  {
   "cell_type": "code",
   "execution_count": 16,
   "outputs": [
    {
     "name": "stdout",
     "output_type": "stream",
     "text": [
      "GPU 可用：True\n"
     ]
    },
    {
     "ename": "ResourceExhaustedError",
     "evalue": "{{function_node __wrapped__AddV2_device_/job:localhost/replica:0/task:0/device:GPU:0}} failed to allocate memory [Op:AddV2]",
     "output_type": "error",
     "traceback": [
      "\u001B[1;31m---------------------------------------------------------------------------\u001B[0m",
      "\u001B[1;31mResourceExhaustedError\u001B[0m                    Traceback (most recent call last)",
      "Cell \u001B[1;32mIn[16], line 9\u001B[0m\n\u001B[0;32m      7\u001B[0m \u001B[38;5;66;03m# 创建一个随机的大型张量\u001B[39;00m\n\u001B[0;32m      8\u001B[0m shape \u001B[38;5;241m=\u001B[39m (\u001B[38;5;241m10000\u001B[39m, \u001B[38;5;241m10000\u001B[39m)\n\u001B[1;32m----> 9\u001B[0m random_tensor \u001B[38;5;241m=\u001B[39m \u001B[43mtf\u001B[49m\u001B[38;5;241;43m.\u001B[39;49m\u001B[43mrandom\u001B[49m\u001B[38;5;241;43m.\u001B[39;49m\u001B[43mnormal\u001B[49m\u001B[43m(\u001B[49m\u001B[43mshape\u001B[49m\u001B[43m)\u001B[49m\n\u001B[0;32m     11\u001B[0m \u001B[38;5;66;03m# 使用GPU计算\u001B[39;00m\n\u001B[0;32m     12\u001B[0m start_time \u001B[38;5;241m=\u001B[39m time\u001B[38;5;241m.\u001B[39mtime()\n",
      "File \u001B[1;32mD:\\Anaconda3\\envs\\MachineLearning\\lib\\site-packages\\tensorflow\\python\\util\\traceback_utils.py:153\u001B[0m, in \u001B[0;36mfilter_traceback.<locals>.error_handler\u001B[1;34m(*args, **kwargs)\u001B[0m\n\u001B[0;32m    151\u001B[0m \u001B[38;5;28;01mexcept\u001B[39;00m \u001B[38;5;167;01mException\u001B[39;00m \u001B[38;5;28;01mas\u001B[39;00m e:\n\u001B[0;32m    152\u001B[0m   filtered_tb \u001B[38;5;241m=\u001B[39m _process_traceback_frames(e\u001B[38;5;241m.\u001B[39m__traceback__)\n\u001B[1;32m--> 153\u001B[0m   \u001B[38;5;28;01mraise\u001B[39;00m e\u001B[38;5;241m.\u001B[39mwith_traceback(filtered_tb) \u001B[38;5;28;01mfrom\u001B[39;00m \u001B[38;5;28mNone\u001B[39m\n\u001B[0;32m    154\u001B[0m \u001B[38;5;28;01mfinally\u001B[39;00m:\n\u001B[0;32m    155\u001B[0m   \u001B[38;5;28;01mdel\u001B[39;00m filtered_tb\n",
      "File \u001B[1;32mD:\\Anaconda3\\envs\\MachineLearning\\lib\\site-packages\\tensorflow\\python\\framework\\ops.py:7209\u001B[0m, in \u001B[0;36mraise_from_not_ok_status\u001B[1;34m(e, name)\u001B[0m\n\u001B[0;32m   7207\u001B[0m \u001B[38;5;28;01mdef\u001B[39;00m \u001B[38;5;21mraise_from_not_ok_status\u001B[39m(e, name):\n\u001B[0;32m   7208\u001B[0m   e\u001B[38;5;241m.\u001B[39mmessage \u001B[38;5;241m+\u001B[39m\u001B[38;5;241m=\u001B[39m (\u001B[38;5;124m\"\u001B[39m\u001B[38;5;124m name: \u001B[39m\u001B[38;5;124m\"\u001B[39m \u001B[38;5;241m+\u001B[39m name \u001B[38;5;28;01mif\u001B[39;00m name \u001B[38;5;129;01mis\u001B[39;00m \u001B[38;5;129;01mnot\u001B[39;00m \u001B[38;5;28;01mNone\u001B[39;00m \u001B[38;5;28;01melse\u001B[39;00m \u001B[38;5;124m\"\u001B[39m\u001B[38;5;124m\"\u001B[39m)\n\u001B[1;32m-> 7209\u001B[0m   \u001B[38;5;28;01mraise\u001B[39;00m core\u001B[38;5;241m.\u001B[39m_status_to_exception(e) \u001B[38;5;28;01mfrom\u001B[39;00m \u001B[38;5;28mNone\u001B[39m\n",
      "\u001B[1;31mResourceExhaustedError\u001B[0m: {{function_node __wrapped__AddV2_device_/job:localhost/replica:0/task:0/device:GPU:0}} failed to allocate memory [Op:AddV2]"
     ]
    }
   ],
   "source": [
    "import tensorflow as tf\n",
    "import time\n",
    "\n",
    "# 检查GPU是否可用\n",
    "print(\"GPU 可用：\" + str(tf.test.is_gpu_available()))\n",
    "\n",
    "# 创建一个随机的大型张量\n",
    "shape = (10000, 10000)\n",
    "random_tensor = tf.random.normal(shape)\n",
    "\n",
    "# 使用GPU计算\n",
    "start_time = time.time()\n",
    "with tf.device('/GPU:0'):\n",
    "    result = tf.reduce_sum(random_tensor)\n",
    "end_time = time.time()\n",
    "print(\"GPU 运行时间: \", end_time - start_time)\n",
    "\n",
    "# 使用CPU计算\n",
    "start_time = time.time()\n",
    "with tf.device('/CPU:0'):\n",
    "    result1 = tf.reduce_sum(random_tensor)\n",
    "end_time = time.time()\n",
    "print(\"CPU 运行时间: \", end_time - start_time)"
   ],
   "metadata": {
    "collapsed": false,
    "ExecuteTime": {
     "end_time": "2023-05-23T14:30:47.426236900Z",
     "start_time": "2023-05-23T14:30:34.329499500Z"
    }
   }
  },
  {
   "cell_type": "code",
   "execution_count": 25,
   "outputs": [
    {
     "name": "stdout",
     "output_type": "stream",
     "text": [
      "平均损失： 0.2057918205857277\n",
      "平均准确率： 0.3101017832756042\n"
     ]
    }
   ],
   "source": [
    "# import numpy as np\n",
    "# import tensorflow as tf\n",
    "# from keras.preprocessing.text import Tokenizer\n",
    "# from keras.utils import pad_sequences\n",
    "# from keras.models import Sequential\n",
    "# from keras.layers import Embedding, Conv1D, GlobalMaxPooling1D, Dense, Dropout\n",
    "# from sklearn.model_selection import StratifiedKFold\n",
    "# from keras.callbacks import EarlyStopping, ReduceLROnPlateau\n",
    "#\n",
    "# with tf.device('/gpu:0'):\n",
    "#     # 读取数据集和预处理\n",
    "#     texts = data['STORYLINE'].tolist()\n",
    "#     labels = data['GENRES'].tolist()\n",
    "#\n",
    "#     # 构建标签词汇表和独热编码\n",
    "#     all_labels = set()\n",
    "#     for label in labels:\n",
    "#         labels_list = label.split('/')\n",
    "#         all_labels.update(labels_list)\n",
    "#\n",
    "#     num_labels = len(all_labels)\n",
    "#     label2index = {label: index for index, label in enumerate(all_labels)}\n",
    "#     index2label = {index: label for index, label in enumerate(all_labels)}\n",
    "#\n",
    "#     label_sequences = [[label2index[label] for label in example.split('/')] for example in labels]\n",
    "#\n",
    "#     # 转换为多标签独热编码形式\n",
    "#     one_hot_labels = []\n",
    "#     for sequence in label_sequences:\n",
    "#         one_hot_label = np.zeros(num_labels)\n",
    "#         for index in sequence:\n",
    "#             one_hot_label[index] = 1\n",
    "#         one_hot_labels.append(one_hot_label)\n",
    "#\n",
    "#     one_hot_labels = np.array(one_hot_labels)\n",
    "#\n",
    "#     # 文本预处理和特征提取\n",
    "#     max_length = 300\n",
    "#     vocab_size = 30000\n",
    "#\n",
    "#     tokenizer = Tokenizer(num_words=vocab_size, oov_token='<OOV>')\n",
    "#     tokenizer.fit_on_texts(texts)\n",
    "#     sequences = tokenizer.texts_to_sequences(texts)\n",
    "#     padded_sequences = pad_sequences(sequences, maxlen=max_length, padding='post')\n",
    "#\n",
    "#     # 进行10折交叉验证\n",
    "#     kfold = StratifiedKFold(n_splits=10, shuffle=True, random_state=42)\n",
    "#\n",
    "#     all_loss = []\n",
    "#     all_accuracy = []\n",
    "#\n",
    "#     for train_indices, test_indices in kfold.split(padded_sequences, np.argmax(one_hot_labels, axis=1)):\n",
    "#         train_texts = padded_sequences[train_indices]\n",
    "#         train_labels = one_hot_labels[train_indices]\n",
    "#         test_texts = padded_sequences[test_indices]\n",
    "#         test_labels = one_hot_labels[test_indices]\n",
    "#\n",
    "#         # 构建卷积神经网络模型\n",
    "#         embedding_dim = 150\n",
    "#         num_filters = 128\n",
    "#         filter_sizes = [3, 4, 5]\n",
    "#         dropout_rate = 0.5\n",
    "#\n",
    "#         model = Sequential()\n",
    "#         model.add(Embedding(vocab_size, embedding_dim, input_length=max_length))\n",
    "#         for filter_size in filter_sizes:\n",
    "#             model.add(Conv1D(num_filters, filter_size, activation='relu'))\n",
    "#             model.add(Conv1D(num_filters, filter_size, activation='relu'))  # 添加额外的卷积层\n",
    "#         model.add(GlobalMaxPooling1D())\n",
    "#         model.add(Dropout(dropout_rate))\n",
    "#         model.add(Dense(num_labels, activation='sigmoid'))\n",
    "#\n",
    "#         model.compile(optimizer='adam', loss='binary_crossentropy', metrics=['accuracy'])\n",
    "#\n",
    "#         # 设置回调函数\n",
    "#         early_stop = EarlyStopping(monitor='val_loss', patience=3, restore_best_weights=True)\n",
    "#         reduce_lr = ReduceLROnPlateau(monitor='val_loss', factor=0.2, patience=2, min_lr=0.0001)\n",
    "#\n",
    "#         # 训练模型\n",
    "#         batch_size = 64\n",
    "#         epochs = 10\n",
    "#\n",
    "#         model.fit(train_texts, train_labels, batch_size=batch_size, epochs=epochs,\n",
    "#                   callbacks=[early_stop, reduce_lr], validation_data=(test_texts, test_labels), verbose=0)\n",
    "#\n",
    "#         # 在测试集上评估模型\n",
    "#         loss, accuracy = model.evaluate(test_texts, test_labels, verbose=0)\n",
    "#         all_loss.append(loss)\n",
    "#         all_accuracy.append(accuracy)\n",
    "#\n",
    "#     # 输出交叉验证的平均损失和准确率\n",
    "#     print('平均损失：', np.mean(all_loss))\n",
    "#     print('平均准确率：', np.mean(all_accuracy))\n"
   ],
   "metadata": {
    "collapsed": false,
    "ExecuteTime": {
     "end_time": "2023-05-23T00:57:22.892844200Z",
     "start_time": "2023-05-23T00:03:59.576388600Z"
    }
   }
  },
  {
   "cell_type": "code",
   "execution_count": 9,
   "outputs": [
    {
     "name": "stderr",
     "output_type": "stream",
     "text": [
      "D:\\Anaconda3\\envs\\MachineLearning\\lib\\site-packages\\sklearn\\model_selection\\_split.py:700: UserWarning: The least populated class in y has only 6 members, which is less than n_splits=10.\n",
      "  warnings.warn(\n"
     ]
    },
    {
     "name": "stdout",
     "output_type": "stream",
     "text": [
      "平均损失： 0.19827957451343536\n",
      "平均准确率： 0.3587335795164108\n"
     ]
    }
   ],
   "source": [
    "import numpy as np\n",
    "import tensorflow as tf\n",
    "from keras.preprocessing.text import Tokenizer\n",
    "from keras.utils import pad_sequences\n",
    "from keras.models import Sequential\n",
    "from keras.layers import Embedding, Conv1D, GlobalMaxPooling1D, Dense, Dropout\n",
    "from sklearn.model_selection import StratifiedKFold\n",
    "from keras.callbacks import EarlyStopping, ReduceLROnPlateau\n",
    "\n",
    "with tf.device('/gpu:0'):\n",
    "    # 读取数据集和预处理\n",
    "    texts = data['STORYLINE'].tolist()\n",
    "    labels = data['GENRES'].tolist()\n",
    "\n",
    "    # 构建标签词汇表和独热编码\n",
    "    all_labels = set()\n",
    "    index = 1\n",
    "    for label in labels:\n",
    "        index += 1\n",
    "        labels_list = label.split('/')\n",
    "        all_labels.update(labels_list)\n",
    "\n",
    "    num_labels = len(all_labels)\n",
    "    label2index = {label: index for index, label in enumerate(all_labels)}\n",
    "    index2label = {index: label for index, label in enumerate(all_labels)}\n",
    "\n",
    "    label_sequences = [[label2index[label] for label in example.split('/')] for example in labels]\n",
    "\n",
    "    # 转换为多标签独热编码形式\n",
    "    one_hot_labels = []\n",
    "    for sequence in label_sequences:\n",
    "        one_hot_label = np.zeros(num_labels)\n",
    "        for index in sequence:\n",
    "            one_hot_label[index] = 1\n",
    "        one_hot_labels.append(one_hot_label)\n",
    "\n",
    "    one_hot_labels = np.array(one_hot_labels)\n",
    "\n",
    "    # 文本预处理和特征提取\n",
    "    max_length = 300\n",
    "    vocab_size = 30000\n",
    "\n",
    "    tokenizer = Tokenizer(num_words=vocab_size, oov_token='<OOV>')\n",
    "    tokenizer.fit_on_texts(texts)\n",
    "    sequences = tokenizer.texts_to_sequences(texts)\n",
    "    padded_sequences = pad_sequences(sequences, maxlen=max_length, padding='post')\n",
    "\n",
    "    # 进行10折交叉验证\n",
    "    kfold = StratifiedKFold(n_splits=10, shuffle=True, random_state=42)\n",
    "\n",
    "    all_loss = []\n",
    "    all_accuracy = []\n",
    "\n",
    "    for train_indices, test_indices in kfold.split(padded_sequences, np.argmax(one_hot_labels, axis=1)):\n",
    "        train_texts = padded_sequences[train_indices]\n",
    "        train_labels = one_hot_labels[train_indices]\n",
    "        test_texts = padded_sequences[test_indices]\n",
    "        test_labels = one_hot_labels[test_indices]\n",
    "\n",
    "        # 构建卷积神经网络模型\n",
    "        embedding_dim = 150\n",
    "        num_filters = 128\n",
    "        filter_sizes = [3, 4, 5]\n",
    "        dropout_rate = 0.5\n",
    "\n",
    "        model = Sequential()\n",
    "        model.add(Embedding(vocab_size, embedding_dim, input_length=max_length))\n",
    "        for filter_size in filter_sizes:\n",
    "            model.add(Conv1D(num_filters, filter_size, activation='relu'))\n",
    "        model.add(GlobalMaxPooling1D())\n",
    "        model.add(Dropout(dropout_rate))\n",
    "        model.add(Dense(num_labels, activation='sigmoid'))\n",
    "\n",
    "        model.compile(optimizer='adam', loss='binary_crossentropy', metrics=['accuracy'])\n",
    "\n",
    "        # 设置回调函数\n",
    "        early_stop = EarlyStopping(monitor='val_loss', patience=3, restore_best_weights=True)\n",
    "        reduce_lr = ReduceLROnPlateau(monitor='val_loss', factor=0.2, patience=2, min_lr=0.0001)\n",
    "\n",
    "        # 训练模型\n",
    "        batch_size = 64\n",
    "        epochs = 10\n",
    "\n",
    "        model.fit(train_texts, train_labels, batch_size=batch_size, epochs=epochs,\n",
    "                  callbacks=[early_stop, reduce_lr], validation_data=(test_texts, test_labels), verbose=0)\n",
    "\n",
    "        # 在测试集上评估模型\n",
    "        loss, accuracy = model.evaluate(test_texts, test_labels, verbose=0)\n",
    "        all_loss.append(loss)\n",
    "        all_accuracy.append(accuracy)\n",
    "\n",
    "    # 输出交叉验证的平均损失和准确率\n",
    "    print('平均损失：', np.mean(all_loss))\n",
    "    print('平均准确率：', np.mean(all_accuracy))\n"
   ],
   "metadata": {
    "collapsed": false,
    "ExecuteTime": {
     "end_time": "2023-05-23T11:09:46.137367400Z",
     "start_time": "2023-05-23T10:41:08.269953700Z"
    }
   }
  },
  {
   "cell_type": "code",
   "execution_count": 85,
   "outputs": [
    {
     "name": "stdout",
     "output_type": "stream",
     "text": [
      "4/4 [==============================] - 0s 84ms/step\n"
     ]
    },
    {
     "data": {
      "text/plain": "[['剧情', '喜剧'],\n ['剧情', '喜剧'],\n ['剧情'],\n ['剧情', '喜剧'],\n ['剧情'],\n ['剧情', '喜剧'],\n ['剧情', '喜剧'],\n ['剧情', '喜剧'],\n ['剧情', '喜剧'],\n ['剧情', '喜剧'],\n ['剧情', '喜剧'],\n ['剧情', '喜剧'],\n ['剧情'],\n ['剧情', '喜剧'],\n ['剧情', '喜剧'],\n ['剧情'],\n ['剧情', '喜剧'],\n ['剧情', '喜剧'],\n ['剧情', '喜剧'],\n ['剧情', '喜剧'],\n ['剧情', '喜剧'],\n ['剧情', '喜剧'],\n ['剧情', '喜剧'],\n ['剧情', '喜剧'],\n ['剧情'],\n ['剧情', '喜剧'],\n ['剧情', '喜剧'],\n ['剧情'],\n ['剧情', '喜剧'],\n ['剧情'],\n ['剧情', '喜剧'],\n ['剧情', '喜剧'],\n ['剧情', '喜剧'],\n ['剧情', '喜剧'],\n ['剧情', '喜剧'],\n ['剧情', '喜剧'],\n ['剧情'],\n ['剧情', '喜剧'],\n ['剧情', '喜剧'],\n ['剧情'],\n ['剧情', '喜剧'],\n ['剧情', '喜剧'],\n ['剧情'],\n ['剧情'],\n ['剧情', '喜剧'],\n ['剧情', '喜剧'],\n ['剧情', '喜剧'],\n ['剧情'],\n ['剧情', '喜剧'],\n ['剧情'],\n ['剧情'],\n ['剧情', '喜剧'],\n ['剧情', '喜剧'],\n ['剧情', '喜剧'],\n ['剧情', '喜剧'],\n ['剧情', '喜剧'],\n ['剧情', '喜剧'],\n ['剧情', '喜剧'],\n ['剧情'],\n ['剧情', '喜剧'],\n ['剧情'],\n ['剧情', '喜剧'],\n ['剧情', '喜剧'],\n ['剧情', '喜剧'],\n ['剧情', '喜剧'],\n ['剧情', '喜剧'],\n ['剧情'],\n ['剧情', '喜剧'],\n ['剧情', '喜剧'],\n ['剧情', '喜剧'],\n ['剧情', '喜剧'],\n ['剧情', '喜剧'],\n ['剧情', '喜剧'],\n ['剧情'],\n ['剧情'],\n ['剧情'],\n ['剧情'],\n ['剧情', '喜剧'],\n ['剧情', '喜剧'],\n ['剧情'],\n ['剧情', '喜剧'],\n ['剧情'],\n ['剧情', '喜剧'],\n ['剧情', '喜剧'],\n ['剧情', '喜剧'],\n ['剧情', '喜剧'],\n ['剧情'],\n ['剧情', '喜剧'],\n ['剧情', '喜剧'],\n ['剧情', '喜剧'],\n ['剧情', '喜剧'],\n ['剧情', '喜剧'],\n ['剧情'],\n ['剧情', '喜剧'],\n ['剧情', '喜剧'],\n ['剧情', '喜剧'],\n ['剧情'],\n ['剧情', '喜剧'],\n ['剧情', '喜剧']]"
     },
     "execution_count": 85,
     "metadata": {},
     "output_type": "execute_result"
    }
   ],
   "source": [
    "# 假设你有一个名为\"new_texts\"的列表，包含待预测的文本数据\n",
    "new_sequences = tokenizer.texts_to_sequences(\"圣诞夜的温哥华机场，海关安检发现一名携带“卡芬太尼”新型毒品的中国人，杰森(杰森·斯坦森饰)是负责十年前追缴从墨西哥贩卖枪支到中国的负责人。中国公安部指示，中美联合作战，一举歼灭该制毒贩毒国际团伙。\")\n",
    "new_padded_sequences = pad_sequences(new_sequences, maxlen=max_length, padding='post')\n",
    "predictions = model.predict(new_padded_sequences)\n",
    "predicted_labels = []\n",
    "for prediction in predictions:\n",
    "    # 将概率大于0.5的类别作为预测结果\n",
    "    predicted_indices = np.where(prediction > 0.3)[0]\n",
    "    predicted_labels.append([index2label[index] for index in predicted_indices])\n",
    "predicted_labels"
   ],
   "metadata": {
    "collapsed": false,
    "ExecuteTime": {
     "end_time": "2023-05-21T11:12:24.792506600Z",
     "start_time": "2023-05-21T11:12:24.457326700Z"
    }
   }
  },
  {
   "cell_type": "code",
   "execution_count": null,
   "outputs": [],
   "source": [],
   "metadata": {
    "collapsed": false
   }
  }
 ],
 "metadata": {
  "kernelspec": {
   "display_name": "Python 3 (ipykernel)",
   "language": "python",
   "name": "python3"
  },
  "language_info": {
   "codemirror_mode": {
    "name": "ipython",
    "version": 3
   },
   "file_extension": ".py",
   "mimetype": "text/x-python",
   "name": "python",
   "nbconvert_exporter": "python",
   "pygments_lexer": "ipython3",
   "version": "3.9.16"
  }
 },
 "nbformat": 4,
 "nbformat_minor": 1
}
